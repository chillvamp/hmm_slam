{
 "cells": [
  {
   "cell_type": "code",
   "execution_count": 125,
   "metadata": {},
   "outputs": [
    {
     "data": {
      "text/plain": [
       "(20, 20, 4)"
      ]
     },
     "execution_count": 125,
     "metadata": {},
     "output_type": "execute_result"
    }
   ],
   "source": [
    "#### import numpy as np\n",
    "import pandas as pd\n",
    "cc=np.load('ccxyth.npy')\n",
    "cc.shape\n",
    "N,_=cc.shape\n"
   ]
  },
  {
   "cell_type": "code",
   "execution_count": 131,
   "metadata": {},
   "outputs": [
    {
     "data": {
      "text/plain": [
       "array([[15.        ,  3.        ,  2.18410744,  1.14538397, -2.36668529],\n",
       "       [ 3.        ,  8.        ,  1.3021413 ,  0.61934851, -2.93127982],\n",
       "       [ 8.        ,  9.        ,  1.19528824,  0.57214802,  2.81888405],\n",
       "       [ 9.        , 16.        ,  1.37846686,  0.42595935,  1.81807275],\n",
       "       [16.        ,  2.        ,  1.38714007,  0.42995712,  0.97701742],\n",
       "       [ 2.        , 10.        ,  2.10034968,  0.96301459,  0.96628769],\n",
       "       [10.        ,  1.        ,  2.53045649,  1.90790181,  1.64870328],\n",
       "       [ 1.        , 18.        ,  2.54677307,  2.72834229,  1.76481009],\n",
       "       [18.        ,  6.        ,  2.28049811,  3.39495164,  2.63512111],\n",
       "       [ 6.        ,  4.        ,  0.93736635,  3.65922307, -2.89248357],\n",
       "       [ 4.        ,  5.        ,  0.67639811,  3.64797004, -1.58701678],\n",
       "       [ 5.        , 14.        ,  0.66661622,  3.69143057, -0.70292854],\n",
       "       [18.        ,  5.        ,  0.75161309,  3.49886284, -1.24166978],\n",
       "       [ 5.        ,  0.        ,  1.37857987,  2.6947506 , -0.23008093],\n",
       "       [ 0.        , 15.        ,  2.31976407,  2.21490921, -1.15587773],\n",
       "       [15.        ,  3.        ,  2.19524376,  1.52605246, -2.23423552],\n",
       "       [ 3.        ,  8.        ,  0.93480537,  0.55992533, -2.76395659],\n",
       "       [ 8.        ,  7.        ,  0.26174377,  0.54590381, -1.366167  ],\n",
       "       [ 7.        , 11.        ,  0.2593441 ,  0.54982212, -0.3193785 ],\n",
       "       [ 2.        , 12.        ,  0.77000975,  0.64702808, -0.03174578],\n",
       "       [ 7.        , 10.        ,  2.13910572,  0.928123  ,  0.99091831],\n",
       "       [10.        ,  1.        ,  2.5358889 ,  1.87840611,  1.60012119],\n",
       "       [ 1.        , 18.        ,  2.55367019,  2.73639869,  1.75552999],\n",
       "       [18.        ,  6.        ,  2.31261028,  3.40413388,  2.6124562 ],\n",
       "       [ 6.        ,  4.        ,  1.02428762,  3.69963034, -2.85371316],\n",
       "       [ 4.        ,  5.        ,  0.64542503,  3.62352768, -1.61815403],\n",
       "       [ 5.        , 14.        ,  0.63305459,  3.67949598, -0.71127984],\n",
       "       [12.        ,  4.        ,  1.42227627,  4.12726753, -2.68599759],\n",
       "       [ 2.        ,  5.        ,  1.49485251,  3.44920663, -1.2770818 ],\n",
       "       [ 5.        ,  0.        ,  1.63455805,  2.8417744 , -0.83834101],\n",
       "       [ 0.        , 15.        ,  2.33948914,  2.11209703, -1.1299474 ],\n",
       "       [15.        ,  3.        ,  2.23859934,  1.22391547, -2.00826457],\n",
       "       [ 3.        ,  8.        ,  1.23752184,  0.62773178, -2.90660669],\n",
       "       [ 8.        ,  9.        ,  1.19022323,  0.59676065,  2.83292065],\n",
       "       [ 9.        , 16.        ,  1.37733855,  0.43513282,  1.80456008],\n",
       "       [16.        ,  2.        ,  1.38547878,  0.43812548,  0.95930468],\n",
       "       [ 7.        , 10.        ,  2.12675194,  0.98185928,  0.98562939],\n",
       "       [10.        ,  1.        ,  2.56132294,  1.75518507,  1.44961266],\n",
       "       [ 1.        , 18.        ,  2.56718654,  2.73311777,  1.79686515],\n",
       "       [18.        ,  6.        ,  2.32912919,  3.39824146,  2.6068115 ],\n",
       "       [ 6.        ,  4.        ,  0.98447722,  3.68275708, -2.90059497],\n",
       "       [ 4.        ,  5.        ,  0.66699394,  3.65173569, -1.58406969],\n",
       "       [ 5.        , 14.        ,  0.65748907,  3.69632041, -0.70972263],\n",
       "       [14.        , 18.        ,  2.25555661,  4.21793507,  0.74772091],\n",
       "       [18.        ,  6.        ,  2.27633403,  4.25611946,  2.59297756]])"
      ]
     },
     "execution_count": 131,
     "metadata": {},
     "output_type": "execute_result"
    }
   ],
   "source": [
    "data=pd.read_csv('dataset_hokuyo_wrs/transitions.txt')\n",
    "data.columns=[['s1','s2','x','y','th']]\n",
    "data.values"
   ]
  },
  {
   "cell_type": "code",
   "execution_count": 155,
   "metadata": {},
   "outputs": [],
   "source": [
    "trans=np.zeros((N,N,4))\n",
    "\n",
    "for line in data.values:\n",
    "    trans[int(line[0]) ,int(line[1]),:3] =((trans[int(line[0]) ,int(line[1]),:3]*trans[int(line[0]) ,int(line[1]),3] )+ line[2:]) / (trans[int(line[0]) ,int(line[1]),3]+ 1)\n",
    "\n",
    "    trans[int(line[0]) ,int(line[1]),3]+=1\n",
    "    "
   ]
  },
  {
   "cell_type": "code",
   "execution_count": 156,
   "metadata": {},
   "outputs": [
    {
     "data": {
      "text/plain": [
       "array([ 2.20598351,  1.29845063, -2.2030618 ,  3.        ])"
      ]
     },
     "execution_count": 156,
     "metadata": {},
     "output_type": "execute_result"
    }
   ],
   "source": [
    "trans[15,3]\n",
    "        "
   ]
  },
  {
   "cell_type": "code",
   "execution_count": 150,
   "metadata": {},
   "outputs": [
    {
     "data": {
      "text/plain": [
       "array([[0., 0., 0., 0., 0., 0., 0., 0., 0., 0., 0., 0., 0., 0., 0., 2.,\n",
       "        0., 0., 0., 0.],\n",
       "       [0., 0., 0., 0., 0., 0., 0., 0., 0., 0., 0., 0., 0., 0., 0., 0.,\n",
       "        0., 0., 3., 0.],\n",
       "       [0., 0., 0., 0., 0., 1., 0., 0., 0., 0., 1., 0., 1., 0., 0., 0.,\n",
       "        0., 0., 0., 0.],\n",
       "       [0., 0., 0., 0., 0., 0., 0., 0., 3., 0., 0., 0., 0., 0., 0., 0.,\n",
       "        0., 0., 0., 0.],\n",
       "       [0., 0., 0., 0., 0., 3., 0., 0., 0., 0., 0., 0., 0., 0., 0., 0.,\n",
       "        0., 0., 0., 0.],\n",
       "       [2., 0., 0., 0., 0., 0., 0., 0., 0., 0., 0., 0., 0., 0., 3., 0.,\n",
       "        0., 0., 0., 0.],\n",
       "       [0., 0., 0., 0., 3., 0., 0., 0., 0., 0., 0., 0., 0., 0., 0., 0.,\n",
       "        0., 0., 0., 0.],\n",
       "       [0., 0., 0., 0., 0., 0., 0., 0., 0., 0., 2., 1., 0., 0., 0., 0.,\n",
       "        0., 0., 0., 0.],\n",
       "       [0., 0., 0., 0., 0., 0., 0., 1., 0., 2., 0., 0., 0., 0., 0., 0.,\n",
       "        0., 0., 0., 0.],\n",
       "       [0., 0., 0., 0., 0., 0., 0., 0., 0., 0., 0., 0., 0., 0., 0., 0.,\n",
       "        2., 0., 0., 0.],\n",
       "       [0., 3., 0., 0., 0., 0., 0., 0., 0., 0., 0., 0., 0., 0., 0., 0.,\n",
       "        0., 0., 0., 0.],\n",
       "       [0., 0., 0., 0., 0., 0., 0., 0., 0., 0., 0., 0., 0., 0., 0., 0.,\n",
       "        0., 0., 0., 0.],\n",
       "       [0., 0., 0., 0., 1., 0., 0., 0., 0., 0., 0., 0., 0., 0., 0., 0.,\n",
       "        0., 0., 0., 0.],\n",
       "       [0., 0., 0., 0., 0., 0., 0., 0., 0., 0., 0., 0., 0., 0., 0., 0.,\n",
       "        0., 0., 0., 0.],\n",
       "       [0., 0., 0., 0., 0., 0., 0., 0., 0., 0., 0., 0., 0., 0., 0., 0.,\n",
       "        0., 0., 1., 0.],\n",
       "       [0., 0., 0., 3., 0., 0., 0., 0., 0., 0., 0., 0., 0., 0., 0., 0.,\n",
       "        0., 0., 0., 0.],\n",
       "       [0., 0., 2., 0., 0., 0., 0., 0., 0., 0., 0., 0., 0., 0., 0., 0.,\n",
       "        0., 0., 0., 0.],\n",
       "       [0., 0., 0., 0., 0., 0., 0., 0., 0., 0., 0., 0., 0., 0., 0., 0.,\n",
       "        0., 0., 0., 0.],\n",
       "       [0., 0., 0., 0., 0., 1., 4., 0., 0., 0., 0., 0., 0., 0., 0., 0.,\n",
       "        0., 0., 0., 0.],\n",
       "       [0., 0., 0., 0., 0., 0., 0., 0., 0., 0., 0., 0., 0., 0., 0., 0.,\n",
       "        0., 0., 0., 0.]])"
      ]
     },
     "execution_count": 150,
     "metadata": {},
     "output_type": "execute_result"
    }
   ],
   "source": [
    "\n"
   ]
  },
  {
   "cell_type": "code",
   "execution_count": 122,
   "metadata": {},
   "outputs": [
    {
     "data": {
      "text/plain": [
       "(45, 5)"
      ]
     },
     "execution_count": 122,
     "metadata": {},
     "output_type": "execute_result"
    }
   ],
   "source": [
    "trans.shape"
   ]
  },
  {
   "cell_type": "code",
   "execution_count": 141,
   "metadata": {},
   "outputs": [
    {
     "ename": "KeyError",
     "evalue": "'Key length (2) exceeds index depth (1)'",
     "output_type": "error",
     "traceback": [
      "\u001b[0;31m---------------------------------------------------------------------------\u001b[0m",
      "\u001b[0;31mKeyError\u001b[0m                                  Traceback (most recent call last)",
      "\u001b[0;32m<ipython-input-141-0f5020e46b68>\u001b[0m in \u001b[0;36m<module>\u001b[0;34m()\u001b[0m\n\u001b[0;32m----> 1\u001b[0;31m \u001b[0mtrans\u001b[0m\u001b[0;34m[\u001b[0m \u001b[0mint\u001b[0m\u001b[0;34m(\u001b[0m\u001b[0mdata\u001b[0m\u001b[0;34m[\u001b[0m\u001b[0mi\u001b[0m\u001b[0;34m,\u001b[0m\u001b[0;36m0\u001b[0m\u001b[0;34m]\u001b[0m\u001b[0;34m)\u001b[0m \u001b[0;34m,\u001b[0m\u001b[0mint\u001b[0m\u001b[0;34m(\u001b[0m \u001b[0mdata\u001b[0m\u001b[0;34m[\u001b[0m\u001b[0mi\u001b[0m\u001b[0;34m,\u001b[0m\u001b[0;36m1\u001b[0m\u001b[0;34m]\u001b[0m\u001b[0;34m)\u001b[0m\u001b[0;34m,\u001b[0m\u001b[0;36m3\u001b[0m\u001b[0;34m]\u001b[0m \u001b[0;34m*\u001b[0m\u001b[0mtrans\u001b[0m\u001b[0;34m[\u001b[0m \u001b[0mint\u001b[0m\u001b[0;34m(\u001b[0m\u001b[0mdata\u001b[0m\u001b[0;34m[\u001b[0m\u001b[0mi\u001b[0m\u001b[0;34m,\u001b[0m\u001b[0;36m0\u001b[0m\u001b[0;34m]\u001b[0m\u001b[0;34m)\u001b[0m \u001b[0;34m,\u001b[0m\u001b[0mint\u001b[0m\u001b[0;34m(\u001b[0m \u001b[0mdata\u001b[0m\u001b[0;34m[\u001b[0m\u001b[0mi\u001b[0m\u001b[0;34m,\u001b[0m\u001b[0;36m1\u001b[0m\u001b[0;34m]\u001b[0m\u001b[0;34m)\u001b[0m\u001b[0;34m,\u001b[0m\u001b[0;34m:\u001b[0m\u001b[0;36m3\u001b[0m\u001b[0;34m]\u001b[0m\u001b[0;34m\u001b[0m\u001b[0m\n\u001b[0m",
      "\u001b[0;32m/home/oscar/.local/lib/python2.7/site-packages/pandas/core/frame.pyc\u001b[0m in \u001b[0;36m__getitem__\u001b[0;34m(self, key)\u001b[0m\n\u001b[1;32m   2925\u001b[0m             \u001b[0;32mif\u001b[0m \u001b[0mself\u001b[0m\u001b[0;34m.\u001b[0m\u001b[0mcolumns\u001b[0m\u001b[0;34m.\u001b[0m\u001b[0mnlevels\u001b[0m \u001b[0;34m>\u001b[0m \u001b[0;36m1\u001b[0m\u001b[0;34m:\u001b[0m\u001b[0;34m\u001b[0m\u001b[0m\n\u001b[1;32m   2926\u001b[0m                 \u001b[0;32mreturn\u001b[0m \u001b[0mself\u001b[0m\u001b[0;34m.\u001b[0m\u001b[0m_getitem_multilevel\u001b[0m\u001b[0;34m(\u001b[0m\u001b[0mkey\u001b[0m\u001b[0;34m)\u001b[0m\u001b[0;34m\u001b[0m\u001b[0m\n\u001b[0;32m-> 2927\u001b[0;31m             \u001b[0mindexer\u001b[0m \u001b[0;34m=\u001b[0m \u001b[0mself\u001b[0m\u001b[0;34m.\u001b[0m\u001b[0mcolumns\u001b[0m\u001b[0;34m.\u001b[0m\u001b[0mget_loc\u001b[0m\u001b[0;34m(\u001b[0m\u001b[0mkey\u001b[0m\u001b[0;34m)\u001b[0m\u001b[0;34m\u001b[0m\u001b[0m\n\u001b[0m\u001b[1;32m   2928\u001b[0m             \u001b[0;32mif\u001b[0m \u001b[0mis_integer\u001b[0m\u001b[0;34m(\u001b[0m\u001b[0mindexer\u001b[0m\u001b[0;34m)\u001b[0m\u001b[0;34m:\u001b[0m\u001b[0;34m\u001b[0m\u001b[0m\n\u001b[1;32m   2929\u001b[0m                 \u001b[0mindexer\u001b[0m \u001b[0;34m=\u001b[0m \u001b[0;34m[\u001b[0m\u001b[0mindexer\u001b[0m\u001b[0;34m]\u001b[0m\u001b[0;34m\u001b[0m\u001b[0m\n",
      "\u001b[0;32m/home/oscar/.local/lib/python2.7/site-packages/pandas/core/indexes/multi.pyc\u001b[0m in \u001b[0;36mget_loc\u001b[0;34m(self, key, method)\u001b[0m\n\u001b[1;32m   2401\u001b[0m         \u001b[0;32mif\u001b[0m \u001b[0mself\u001b[0m\u001b[0;34m.\u001b[0m\u001b[0mnlevels\u001b[0m \u001b[0;34m<\u001b[0m \u001b[0mkeylen\u001b[0m\u001b[0;34m:\u001b[0m\u001b[0;34m\u001b[0m\u001b[0m\n\u001b[1;32m   2402\u001b[0m             raise KeyError('Key length ({0}) exceeds index depth ({1})'\n\u001b[0;32m-> 2403\u001b[0;31m                            ''.format(keylen, self.nlevels))\n\u001b[0m\u001b[1;32m   2404\u001b[0m \u001b[0;34m\u001b[0m\u001b[0m\n\u001b[1;32m   2405\u001b[0m         \u001b[0;32mif\u001b[0m \u001b[0mkeylen\u001b[0m \u001b[0;34m==\u001b[0m \u001b[0mself\u001b[0m\u001b[0;34m.\u001b[0m\u001b[0mnlevels\u001b[0m \u001b[0;32mand\u001b[0m \u001b[0mself\u001b[0m\u001b[0;34m.\u001b[0m\u001b[0mis_unique\u001b[0m\u001b[0;34m:\u001b[0m\u001b[0;34m\u001b[0m\u001b[0m\n",
      "\u001b[0;31mKeyError\u001b[0m: 'Key length (2) exceeds index depth (1)'"
     ]
    }
   ],
   "source": [
    "trans[ int(data[i,0]) ,int( data[i,1]),3] *trans[ int(data[i,0]) ,int( data[i,1]),:3]"
   ]
  },
  {
   "cell_type": "code",
   "execution_count": 104,
   "metadata": {},
   "outputs": [
    {
     "data": {
      "text/plain": [
       "array([ 2.18410744,  1.14538397, -2.36668529])"
      ]
     },
     "execution_count": 104,
     "metadata": {},
     "output_type": "execute_result"
    }
   ],
   "source": [
    "data[i,-3:]"
   ]
  },
  {
   "cell_type": "code",
   "execution_count": 105,
   "metadata": {},
   "outputs": [
    {
     "data": {
      "text/plain": [
       "array([ 4.36821488,  2.29076794, -4.73337059])"
      ]
     },
     "execution_count": 105,
     "metadata": {},
     "output_type": "execute_result"
    }
   ],
   "source": [
    "trans[ int(data[i,0]) ,int( data[i,1]),3] *trans[ int(data[i,0]) ,int( data[i,1]),:3] +data[i,-3:]"
   ]
  },
  {
   "cell_type": "code",
   "execution_count": 106,
   "metadata": {},
   "outputs": [],
   "source": [
    "trans[ int(data[i,0]) ,int( data[i,1]),3]+=1\n"
   ]
  },
  {
   "cell_type": "code",
   "execution_count": null,
   "metadata": {},
   "outputs": [],
   "source": [
    "\n",
    "tra"
   ]
  }
 ],
 "metadata": {
  "kernelspec": {
   "display_name": "Python 2",
   "language": "python",
   "name": "python2"
  },
  "language_info": {
   "codemirror_mode": {
    "name": "ipython",
    "version": 2
   },
   "file_extension": ".py",
   "mimetype": "text/x-python",
   "name": "python",
   "nbconvert_exporter": "python",
   "pygments_lexer": "ipython2",
   "version": "2.7.17"
  }
 },
 "nbformat": 4,
 "nbformat_minor": 2
}
