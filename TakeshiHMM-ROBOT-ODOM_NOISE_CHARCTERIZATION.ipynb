{
 "cells": [
  {
   "cell_type": "code",
   "execution_count": 5,
   "metadata": {},
   "outputs": [
    {
     "data": {
      "application/javascript": [
       "IPython.notebook.set_autosave_interval(0)"
      ]
     },
     "metadata": {},
     "output_type": "display_data"
    },
    {
     "name": "stdout",
     "output_type": "stream",
     "text": [
      "Autosave disabled\n"
     ]
    }
   ],
   "source": [
    "from sklearn.cluster import KMeans\n",
    "import matplotlib.pyplot as plt\n",
    "%matplotlib inline\n",
    "from sklearn.cluster import  MiniBatchKMeans\n",
    "import numpy as np\n",
    "import pandas as pd\n",
    "from joblib import dump, load\n",
    "import seaborn as sbs\n",
    "sbs.reset_orig()\n",
    "\n",
    "%autosave 0 "
   ]
  },
  {
   "cell_type": "code",
   "execution_count": 6,
   "metadata": {},
   "outputs": [],
   "source": [
    "\n",
    "\n",
    "class HMM (object):\n",
    "             def __init__(self,A,B,PI):\n",
    "                 self.A=A\n",
    "                 self.B=B\n",
    "                 self.PI=PI   \n",
    "def viterbi(obs,Modelo1,PI):\n",
    "    \n",
    "    delta=np.zeros((len(obs)+1,len(Modelo1.A)))\n",
    "    phi=np.zeros((len(obs)+1,len(A)))+666\n",
    "    path =np.zeros(len(obs)+1)\n",
    "    T=len(obs)\n",
    "    Modelo1.PI = PI\n",
    "    delta[0,:]= Modelo1.PI * Modelo1.B[:,obs[0]]\n",
    "    phi[0,:]=666\n",
    "    for t in range(len(obs)):\n",
    "        for j in range(delta.shape[1]):\n",
    "\n",
    "            delta [t+1,j]=np.max(delta[t] * A[:,j]) * B[j,obs[t]]\n",
    "            phi[t+1,j]= np.argmax(delta[t] * A[:,j])\n",
    "    path[T]=int(np.argmax(delta[T,:]))\n",
    "    for i in np.arange(T-1,0,-1):\n",
    "        #print (i,phi[i+1,int(path[i+1])])\n",
    "        path[i]=phi[i+1,int(path[i+1])]\n",
    "    return(path)\n",
    "def cuantizar_xy(xy, cc):\n",
    "    xycuant=cc\n",
    "    out=np.power(xycuant-xy,2).sum(axis=1).argmin()\n",
    "    return out\n",
    "    \n",
    "def path_to_xy(path,ccxy):\n",
    "    estimated= pd.DataFrame(path.astype(int).T)\n",
    "    estimated.columns=[['Path_vit']]\n",
    "    estimated['xcuant'] = estimated['Path_vit'].apply(lambda x: ccxy[x,0])\n",
    "    estimated['ycuant'] = estimated['Path_vit'].apply(lambda x: ccxy[x,1])                                \n",
    "    return (estimated)\n",
    "def quantized(xyth,ccxyth):\n",
    "    xythcuant=np.argmin(np.linalg.norm(xyth-ccxyth,axis=1))\n",
    "    x,y=ccxyth[xythcuant,:2]\n",
    "    return ((x,y),(xythcuant))\n",
    "\n"
   ]
  },
  {
   "cell_type": "code",
   "execution_count": 7,
   "metadata": {},
   "outputs": [],
   "source": [
    "def Markov_A_2_grafo(A,ccxyth):\n",
    "    dists=np.zeros(A.shape)\n",
    "    for i in range(A.shape[0]):\n",
    "        for j in range (A.shape[1]):\n",
    "            if A[i,j]!=0 :\n",
    "                dists[i,j]= np.linalg.norm(ccxyth[i]-ccxyth[j])    \n",
    "    \n",
    "    \n",
    "    con = np.where(dists==0,np.inf,dists)\n",
    "    graphe2=grafo(ccxyth,con)\n",
    "    return graphe2\n",
    "\n",
    "\n",
    "class node(object):\n",
    "    def __init__(self,x,y):\n",
    "        self.x=x\n",
    "        self.y=y\n",
    "        \n",
    "        \n",
    "class grafo (object):\n",
    "             def __init__(self,nodos,conec):\n",
    "                 self.nodos=nodos\n",
    "                 self.conec=conec        \n",
    "\n",
    "def dijkstra(nodoinicial,nodofinal,graphe):\n",
    "    \n",
    "\n",
    "    numnodos= len(graphe.nodos)\n",
    "    con = graphe.conec\n",
    "    D= np.ones(numnodos)*np.inf\n",
    "    Prv= np.ones(numnodos)*np.inf\n",
    "    V= np.zeros(numnodos)\n",
    "    a = nodoinicial\n",
    "    D[a]=0\n",
    "    Prv[a]=0\n",
    "    Prv[np.where(con[a]!=np.inf)]=a\n",
    "    V[a]=1\n",
    "    Dacc=D[a]\n",
    "    ########\n",
    "    D=np.minimum(D,con[a]+D[a])\n",
    "    cont=0\n",
    "    sucess=False\n",
    "    while(sucess==False):\n",
    "        a = np.argmin(D+np.where (V==1,np.inf, V))\n",
    "        Dacc=D[a]\n",
    "        Prv[np.where(D>(con[a]+Dacc) )]=a\n",
    "        V[a]=1\n",
    "        D=np.minimum(D,con[a]+Dacc)\n",
    "        if (a== nodofinal):\n",
    "            print(\"RUTA CALCULADA \")\n",
    "            sucess=True\n",
    "    rutainv=[]\n",
    "    rutainv.append(nodofinal)\n",
    "    while(rutainv[-1]!=nodoinicial):\n",
    "        prv=Prv[int(rutainv[-1])]\n",
    "        rutainv.append(prv)\n",
    "\n",
    "    ruta=[]\n",
    "    for n in reversed(rutainv):\n",
    "        ruta.append(n)\n",
    "    return(ruta)\n"
   ]
  },
  {
   "cell_type": "code",
   "execution_count": 8,
   "metadata": {},
   "outputs": [],
   "source": [
    "ccxyth,ccvk=np.load('ccxyth.npy'),np.load('ccvk.npy')\n",
    "A,B,PI = np.load('A.npy'),np.load('B.npy'),np.load('PI.npy')\n",
    "Modelo= HMM(A,B,PI)\n"
   ]
  },
  {
   "cell_type": "code",
   "execution_count": null,
   "metadata": {},
   "outputs": [],
   "source": []
  },
  {
   "cell_type": "code",
   "execution_count": null,
   "metadata": {},
   "outputs": [],
   "source": []
  },
  {
   "cell_type": "code",
   "execution_count": 9,
   "metadata": {},
   "outputs": [
    {
     "data": {
      "text/html": [
       "<div>\n",
       "<style scoped>\n",
       "    .dataframe tbody tr th:only-of-type {\n",
       "        vertical-align: middle;\n",
       "    }\n",
       "\n",
       "    .dataframe tbody tr th {\n",
       "        vertical-align: top;\n",
       "    }\n",
       "\n",
       "    .dataframe thead th {\n",
       "        text-align: right;\n",
       "    }\n",
       "</style>\n",
       "<table border=\"1\" class=\"dataframe\">\n",
       "  <thead>\n",
       "    <tr style=\"text-align: right;\">\n",
       "      <th></th>\n",
       "      <th>0</th>\n",
       "      <th>1</th>\n",
       "      <th>2</th>\n",
       "      <th>3</th>\n",
       "      <th>4</th>\n",
       "      <th>5</th>\n",
       "      <th>6</th>\n",
       "      <th>7</th>\n",
       "      <th>8</th>\n",
       "      <th>9</th>\n",
       "      <th>...</th>\n",
       "      <th>953</th>\n",
       "      <th>954</th>\n",
       "      <th>955</th>\n",
       "      <th>956</th>\n",
       "      <th>957</th>\n",
       "      <th>958</th>\n",
       "      <th>959</th>\n",
       "      <th>960</th>\n",
       "      <th>961</th>\n",
       "      <th>962</th>\n",
       "    </tr>\n",
       "  </thead>\n",
       "  <tbody>\n",
       "    <tr>\n",
       "      <th>count</th>\n",
       "      <td>264.000000</td>\n",
       "      <td>264.000000</td>\n",
       "      <td>264.000000</td>\n",
       "      <td>264.000000</td>\n",
       "      <td>264.000000</td>\n",
       "      <td>264.000000</td>\n",
       "      <td>264.000000</td>\n",
       "      <td>264.000000</td>\n",
       "      <td>264.000000</td>\n",
       "      <td>264.000000</td>\n",
       "      <td>...</td>\n",
       "      <td>264.000000</td>\n",
       "      <td>264.000000</td>\n",
       "      <td>264.000000</td>\n",
       "      <td>264.000000</td>\n",
       "      <td>264.000000</td>\n",
       "      <td>264.000000</td>\n",
       "      <td>264.000000</td>\n",
       "      <td>264.000000</td>\n",
       "      <td>264.000000</td>\n",
       "      <td>264.000000</td>\n",
       "    </tr>\n",
       "    <tr>\n",
       "      <th>mean</th>\n",
       "      <td>1.743439</td>\n",
       "      <td>1.744909</td>\n",
       "      <td>1.754330</td>\n",
       "      <td>1.757133</td>\n",
       "      <td>1.748436</td>\n",
       "      <td>1.757432</td>\n",
       "      <td>1.765754</td>\n",
       "      <td>1.765348</td>\n",
       "      <td>1.780917</td>\n",
       "      <td>1.792958</td>\n",
       "      <td>...</td>\n",
       "      <td>2.154606</td>\n",
       "      <td>2.104496</td>\n",
       "      <td>2.087000</td>\n",
       "      <td>2.073973</td>\n",
       "      <td>2.067409</td>\n",
       "      <td>2.052140</td>\n",
       "      <td>2.047485</td>\n",
       "      <td>2.034754</td>\n",
       "      <td>2.019341</td>\n",
       "      <td>2.020114</td>\n",
       "    </tr>\n",
       "    <tr>\n",
       "      <th>std</th>\n",
       "      <td>1.017095</td>\n",
       "      <td>1.016295</td>\n",
       "      <td>1.016774</td>\n",
       "      <td>1.020715</td>\n",
       "      <td>1.024684</td>\n",
       "      <td>1.021947</td>\n",
       "      <td>1.020083</td>\n",
       "      <td>1.017688</td>\n",
       "      <td>1.012653</td>\n",
       "      <td>1.000869</td>\n",
       "      <td>...</td>\n",
       "      <td>0.712857</td>\n",
       "      <td>0.791964</td>\n",
       "      <td>0.821966</td>\n",
       "      <td>0.824994</td>\n",
       "      <td>0.824693</td>\n",
       "      <td>0.848076</td>\n",
       "      <td>0.862156</td>\n",
       "      <td>0.854418</td>\n",
       "      <td>0.860263</td>\n",
       "      <td>0.855498</td>\n",
       "    </tr>\n",
       "    <tr>\n",
       "      <th>min</th>\n",
       "      <td>0.194000</td>\n",
       "      <td>0.340000</td>\n",
       "      <td>0.535000</td>\n",
       "      <td>0.526000</td>\n",
       "      <td>0.415000</td>\n",
       "      <td>0.415000</td>\n",
       "      <td>0.541000</td>\n",
       "      <td>0.541000</td>\n",
       "      <td>0.553000</td>\n",
       "      <td>0.555000</td>\n",
       "      <td>...</td>\n",
       "      <td>0.641000</td>\n",
       "      <td>0.626000</td>\n",
       "      <td>0.598000</td>\n",
       "      <td>0.590000</td>\n",
       "      <td>0.595000</td>\n",
       "      <td>0.547000</td>\n",
       "      <td>0.538000</td>\n",
       "      <td>0.541000</td>\n",
       "      <td>0.534000</td>\n",
       "      <td>0.519000</td>\n",
       "    </tr>\n",
       "    <tr>\n",
       "      <th>25%</th>\n",
       "      <td>0.606750</td>\n",
       "      <td>0.602750</td>\n",
       "      <td>0.603000</td>\n",
       "      <td>0.604750</td>\n",
       "      <td>0.605000</td>\n",
       "      <td>0.607750</td>\n",
       "      <td>0.619000</td>\n",
       "      <td>0.633500</td>\n",
       "      <td>0.650000</td>\n",
       "      <td>0.660000</td>\n",
       "      <td>...</td>\n",
       "      <td>1.574750</td>\n",
       "      <td>1.576750</td>\n",
       "      <td>1.587250</td>\n",
       "      <td>1.588000</td>\n",
       "      <td>1.581750</td>\n",
       "      <td>1.584500</td>\n",
       "      <td>1.577250</td>\n",
       "      <td>1.578750</td>\n",
       "      <td>1.577750</td>\n",
       "      <td>1.581500</td>\n",
       "    </tr>\n",
       "    <tr>\n",
       "      <th>50%</th>\n",
       "      <td>2.076000</td>\n",
       "      <td>2.090500</td>\n",
       "      <td>2.073500</td>\n",
       "      <td>2.088500</td>\n",
       "      <td>2.110500</td>\n",
       "      <td>2.100000</td>\n",
       "      <td>2.107500</td>\n",
       "      <td>2.104000</td>\n",
       "      <td>2.120000</td>\n",
       "      <td>2.117500</td>\n",
       "      <td>...</td>\n",
       "      <td>2.124500</td>\n",
       "      <td>2.114000</td>\n",
       "      <td>2.103500</td>\n",
       "      <td>2.106500</td>\n",
       "      <td>2.067500</td>\n",
       "      <td>2.086500</td>\n",
       "      <td>2.065000</td>\n",
       "      <td>2.052500</td>\n",
       "      <td>2.057500</td>\n",
       "      <td>2.052500</td>\n",
       "    </tr>\n",
       "    <tr>\n",
       "      <th>75%</th>\n",
       "      <td>2.752000</td>\n",
       "      <td>2.768250</td>\n",
       "      <td>2.866500</td>\n",
       "      <td>2.807000</td>\n",
       "      <td>2.845000</td>\n",
       "      <td>2.851250</td>\n",
       "      <td>2.863250</td>\n",
       "      <td>2.852500</td>\n",
       "      <td>2.843500</td>\n",
       "      <td>2.837750</td>\n",
       "      <td>...</td>\n",
       "      <td>2.946250</td>\n",
       "      <td>2.968500</td>\n",
       "      <td>2.989250</td>\n",
       "      <td>2.945000</td>\n",
       "      <td>2.939500</td>\n",
       "      <td>2.939250</td>\n",
       "      <td>2.964000</td>\n",
       "      <td>2.926500</td>\n",
       "      <td>2.902000</td>\n",
       "      <td>2.875000</td>\n",
       "    </tr>\n",
       "    <tr>\n",
       "      <th>max</th>\n",
       "      <td>3.000000</td>\n",
       "      <td>3.000000</td>\n",
       "      <td>3.000000</td>\n",
       "      <td>3.000000</td>\n",
       "      <td>3.000000</td>\n",
       "      <td>3.000000</td>\n",
       "      <td>3.000000</td>\n",
       "      <td>3.000000</td>\n",
       "      <td>3.000000</td>\n",
       "      <td>3.000000</td>\n",
       "      <td>...</td>\n",
       "      <td>3.000000</td>\n",
       "      <td>3.000000</td>\n",
       "      <td>3.000000</td>\n",
       "      <td>3.000000</td>\n",
       "      <td>3.000000</td>\n",
       "      <td>3.000000</td>\n",
       "      <td>3.000000</td>\n",
       "      <td>3.000000</td>\n",
       "      <td>3.000000</td>\n",
       "      <td>3.000000</td>\n",
       "    </tr>\n",
       "  </tbody>\n",
       "</table>\n",
       "<p>8 rows × 963 columns</p>\n",
       "</div>"
      ],
      "text/plain": [
       "              0           1           2           3           4           5    \\\n",
       "count  264.000000  264.000000  264.000000  264.000000  264.000000  264.000000   \n",
       "mean     1.743439    1.744909    1.754330    1.757133    1.748436    1.757432   \n",
       "std      1.017095    1.016295    1.016774    1.020715    1.024684    1.021947   \n",
       "min      0.194000    0.340000    0.535000    0.526000    0.415000    0.415000   \n",
       "25%      0.606750    0.602750    0.603000    0.604750    0.605000    0.607750   \n",
       "50%      2.076000    2.090500    2.073500    2.088500    2.110500    2.100000   \n",
       "75%      2.752000    2.768250    2.866500    2.807000    2.845000    2.851250   \n",
       "max      3.000000    3.000000    3.000000    3.000000    3.000000    3.000000   \n",
       "\n",
       "              6           7           8           9    ...         953  \\\n",
       "count  264.000000  264.000000  264.000000  264.000000  ...  264.000000   \n",
       "mean     1.765754    1.765348    1.780917    1.792958  ...    2.154606   \n",
       "std      1.020083    1.017688    1.012653    1.000869  ...    0.712857   \n",
       "min      0.541000    0.541000    0.553000    0.555000  ...    0.641000   \n",
       "25%      0.619000    0.633500    0.650000    0.660000  ...    1.574750   \n",
       "50%      2.107500    2.104000    2.120000    2.117500  ...    2.124500   \n",
       "75%      2.863250    2.852500    2.843500    2.837750  ...    2.946250   \n",
       "max      3.000000    3.000000    3.000000    3.000000  ...    3.000000   \n",
       "\n",
       "              954         955         956         957         958         959  \\\n",
       "count  264.000000  264.000000  264.000000  264.000000  264.000000  264.000000   \n",
       "mean     2.104496    2.087000    2.073973    2.067409    2.052140    2.047485   \n",
       "std      0.791964    0.821966    0.824994    0.824693    0.848076    0.862156   \n",
       "min      0.626000    0.598000    0.590000    0.595000    0.547000    0.538000   \n",
       "25%      1.576750    1.587250    1.588000    1.581750    1.584500    1.577250   \n",
       "50%      2.114000    2.103500    2.106500    2.067500    2.086500    2.065000   \n",
       "75%      2.968500    2.989250    2.945000    2.939500    2.939250    2.964000   \n",
       "max      3.000000    3.000000    3.000000    3.000000    3.000000    3.000000   \n",
       "\n",
       "              960         961         962  \n",
       "count  264.000000  264.000000  264.000000  \n",
       "mean     2.034754    2.019341    2.020114  \n",
       "std      0.854418    0.860263    0.855498  \n",
       "min      0.541000    0.534000    0.519000  \n",
       "25%      1.578750    1.577750    1.581500  \n",
       "50%      2.052500    2.057500    2.052500  \n",
       "75%      2.926500    2.902000    2.875000  \n",
       "max      3.000000    3.000000    3.000000  \n",
       "\n",
       "[8 rows x 963 columns]"
      ]
     },
     "execution_count": 9,
     "metadata": {},
     "output_type": "execute_result"
    }
   ],
   "source": [
    "\n",
    "data=pd.read_csv('RealROBOT/lecturasconodometria-noisy-a.txt')\n",
    "#data=data.iloc[:40,:]\n",
    "\n",
    "cols=['x','y','theta','y_noise','x_noise','theta_noise']\n",
    "n_reads=data.shape[1]-6\n",
    "etiquetas=[]\n",
    "for i in range (n_reads):\n",
    "    etiquetas.append('R'+str(i))\n",
    "\n",
    "        \n",
    "for lab in cols:\n",
    "    etiquetas.append(lab)\n",
    "\n",
    "\n",
    "data.columns=etiquetas\n",
    "\n",
    "\"\"\"if (only_nice!=True):\n",
    "    print(\"NOT ONLY NICE\")\n",
    "    data2=pd.read_csv('lecturasconodometria.txt')\n",
    "    data2.columns=etiquetas\n",
    "    data3= pd.concat((data,data2))\n",
    "    data=data3\n",
    "\n",
    "\"\"\"\n",
    "\n",
    "\n",
    "\n",
    "####\n",
    "#index = data[data.y<-1].index\n",
    "#data=data.drop(index)\n",
    "\n",
    "\n",
    "\n",
    "#####\n",
    "\n",
    "xyth=data[['x','y','theta']]\n",
    "\n",
    "lecs=data.iloc[:,0:n_reads]\n",
    "lecs=pd.DataFrame(np.clip(lecs.values,0,3))\n",
    "data.y_noise=data.y_noise*-1\n",
    "\n",
    "lecs.describe()\n"
   ]
  },
  {
   "cell_type": "code",
   "execution_count": 10,
   "metadata": {},
   "outputs": [
    {
     "data": {
      "text/html": [
       "<div>\n",
       "<style scoped>\n",
       "    .dataframe tbody tr th:only-of-type {\n",
       "        vertical-align: middle;\n",
       "    }\n",
       "\n",
       "    .dataframe tbody tr th {\n",
       "        vertical-align: top;\n",
       "    }\n",
       "\n",
       "    .dataframe thead th {\n",
       "        text-align: right;\n",
       "    }\n",
       "</style>\n",
       "<table border=\"1\" class=\"dataframe\">\n",
       "  <thead>\n",
       "    <tr style=\"text-align: right;\">\n",
       "      <th></th>\n",
       "      <th>0</th>\n",
       "      <th>1</th>\n",
       "      <th>2</th>\n",
       "      <th>3</th>\n",
       "      <th>4</th>\n",
       "      <th>5</th>\n",
       "      <th>6</th>\n",
       "      <th>7</th>\n",
       "      <th>8</th>\n",
       "      <th>9</th>\n",
       "      <th>10</th>\n",
       "      <th>11</th>\n",
       "      <th>12</th>\n",
       "      <th>13</th>\n",
       "      <th>14</th>\n",
       "    </tr>\n",
       "  </thead>\n",
       "  <tbody>\n",
       "    <tr>\n",
       "      <th>count</th>\n",
       "      <td>264.000000</td>\n",
       "      <td>264.000000</td>\n",
       "      <td>264.000000</td>\n",
       "      <td>264.000000</td>\n",
       "      <td>264.000000</td>\n",
       "      <td>264.000000</td>\n",
       "      <td>264.000000</td>\n",
       "      <td>264.000000</td>\n",
       "      <td>264.000000</td>\n",
       "      <td>264.000000</td>\n",
       "      <td>264.000000</td>\n",
       "      <td>264.000000</td>\n",
       "      <td>264.000000</td>\n",
       "      <td>264.000000</td>\n",
       "      <td>264.000000</td>\n",
       "    </tr>\n",
       "    <tr>\n",
       "      <th>mean</th>\n",
       "      <td>2.081851</td>\n",
       "      <td>1.695160</td>\n",
       "      <td>1.730792</td>\n",
       "      <td>1.797311</td>\n",
       "      <td>1.831571</td>\n",
       "      <td>1.660834</td>\n",
       "      <td>1.612716</td>\n",
       "      <td>1.983686</td>\n",
       "      <td>1.830175</td>\n",
       "      <td>2.127471</td>\n",
       "      <td>1.672227</td>\n",
       "      <td>1.796554</td>\n",
       "      <td>1.854907</td>\n",
       "      <td>1.769688</td>\n",
       "      <td>1.550606</td>\n",
       "    </tr>\n",
       "    <tr>\n",
       "      <th>std</th>\n",
       "      <td>0.556152</td>\n",
       "      <td>0.696789</td>\n",
       "      <td>0.712186</td>\n",
       "      <td>0.731350</td>\n",
       "      <td>0.759773</td>\n",
       "      <td>0.759116</td>\n",
       "      <td>0.706647</td>\n",
       "      <td>0.650762</td>\n",
       "      <td>0.791435</td>\n",
       "      <td>0.605351</td>\n",
       "      <td>0.806030</td>\n",
       "      <td>0.804905</td>\n",
       "      <td>0.686119</td>\n",
       "      <td>0.733058</td>\n",
       "      <td>0.765902</td>\n",
       "    </tr>\n",
       "    <tr>\n",
       "      <th>min</th>\n",
       "      <td>0.730800</td>\n",
       "      <td>0.463234</td>\n",
       "      <td>0.562775</td>\n",
       "      <td>0.515330</td>\n",
       "      <td>0.574625</td>\n",
       "      <td>0.575804</td>\n",
       "      <td>0.493523</td>\n",
       "      <td>0.656517</td>\n",
       "      <td>0.612694</td>\n",
       "      <td>0.688566</td>\n",
       "      <td>0.460067</td>\n",
       "      <td>0.606153</td>\n",
       "      <td>0.549667</td>\n",
       "      <td>0.603388</td>\n",
       "      <td>0.542245</td>\n",
       "    </tr>\n",
       "    <tr>\n",
       "      <th>25%</th>\n",
       "      <td>1.687534</td>\n",
       "      <td>1.197186</td>\n",
       "      <td>1.105034</td>\n",
       "      <td>0.967011</td>\n",
       "      <td>0.981031</td>\n",
       "      <td>0.970103</td>\n",
       "      <td>0.868246</td>\n",
       "      <td>1.454108</td>\n",
       "      <td>0.935684</td>\n",
       "      <td>1.684599</td>\n",
       "      <td>0.774396</td>\n",
       "      <td>0.957856</td>\n",
       "      <td>1.329698</td>\n",
       "      <td>1.094372</td>\n",
       "      <td>0.786786</td>\n",
       "    </tr>\n",
       "    <tr>\n",
       "      <th>50%</th>\n",
       "      <td>2.115250</td>\n",
       "      <td>1.749963</td>\n",
       "      <td>1.635437</td>\n",
       "      <td>1.962819</td>\n",
       "      <td>1.951667</td>\n",
       "      <td>1.591616</td>\n",
       "      <td>1.648846</td>\n",
       "      <td>1.890948</td>\n",
       "      <td>1.923898</td>\n",
       "      <td>2.119538</td>\n",
       "      <td>1.905700</td>\n",
       "      <td>1.796508</td>\n",
       "      <td>1.775979</td>\n",
       "      <td>1.619265</td>\n",
       "      <td>1.465776</td>\n",
       "    </tr>\n",
       "    <tr>\n",
       "      <th>75%</th>\n",
       "      <td>2.556350</td>\n",
       "      <td>2.274436</td>\n",
       "      <td>2.379247</td>\n",
       "      <td>2.396843</td>\n",
       "      <td>2.518163</td>\n",
       "      <td>2.289518</td>\n",
       "      <td>2.110369</td>\n",
       "      <td>2.594168</td>\n",
       "      <td>2.523597</td>\n",
       "      <td>2.749915</td>\n",
       "      <td>2.275567</td>\n",
       "      <td>2.603195</td>\n",
       "      <td>2.478479</td>\n",
       "      <td>2.400597</td>\n",
       "      <td>2.173985</td>\n",
       "    </tr>\n",
       "    <tr>\n",
       "      <th>max</th>\n",
       "      <td>2.950050</td>\n",
       "      <td>2.882564</td>\n",
       "      <td>3.000000</td>\n",
       "      <td>2.936187</td>\n",
       "      <td>2.992583</td>\n",
       "      <td>3.000000</td>\n",
       "      <td>3.000000</td>\n",
       "      <td>3.000000</td>\n",
       "      <td>3.000000</td>\n",
       "      <td>3.000000</td>\n",
       "      <td>3.000000</td>\n",
       "      <td>3.000000</td>\n",
       "      <td>3.000000</td>\n",
       "      <td>3.000000</td>\n",
       "      <td>3.000000</td>\n",
       "    </tr>\n",
       "  </tbody>\n",
       "</table>\n",
       "</div>"
      ],
      "text/plain": [
       "               0           1           2           3           4           5   \\\n",
       "count  264.000000  264.000000  264.000000  264.000000  264.000000  264.000000   \n",
       "mean     2.081851    1.695160    1.730792    1.797311    1.831571    1.660834   \n",
       "std      0.556152    0.696789    0.712186    0.731350    0.759773    0.759116   \n",
       "min      0.730800    0.463234    0.562775    0.515330    0.574625    0.575804   \n",
       "25%      1.687534    1.197186    1.105034    0.967011    0.981031    0.970103   \n",
       "50%      2.115250    1.749963    1.635437    1.962819    1.951667    1.591616   \n",
       "75%      2.556350    2.274436    2.379247    2.396843    2.518163    2.289518   \n",
       "max      2.950050    2.882564    3.000000    2.936187    2.992583    3.000000   \n",
       "\n",
       "               6           7           8           9           10          11  \\\n",
       "count  264.000000  264.000000  264.000000  264.000000  264.000000  264.000000   \n",
       "mean     1.612716    1.983686    1.830175    2.127471    1.672227    1.796554   \n",
       "std      0.706647    0.650762    0.791435    0.605351    0.806030    0.804905   \n",
       "min      0.493523    0.656517    0.612694    0.688566    0.460067    0.606153   \n",
       "25%      0.868246    1.454108    0.935684    1.684599    0.774396    0.957856   \n",
       "50%      1.648846    1.890948    1.923898    2.119538    1.905700    1.796508   \n",
       "75%      2.110369    2.594168    2.523597    2.749915    2.275567    2.603195   \n",
       "max      3.000000    3.000000    3.000000    3.000000    3.000000    3.000000   \n",
       "\n",
       "               12          13          14  \n",
       "count  264.000000  264.000000  264.000000  \n",
       "mean     1.854907    1.769688    1.550606  \n",
       "std      0.686119    0.733058    0.765902  \n",
       "min      0.549667    0.603388    0.542245  \n",
       "25%      1.329698    1.094372    0.786786  \n",
       "50%      1.775979    1.619265    1.465776  \n",
       "75%      2.478479    2.400597    2.173985  \n",
       "max      3.000000    3.000000    3.000000  "
      ]
     },
     "execution_count": 10,
     "metadata": {},
     "output_type": "execute_result"
    }
   ],
   "source": [
    "\n",
    "from sklearn.cluster import FeatureAgglomeration\n",
    "F_agg= FeatureAgglomeration(n_clusters=15).fit(lecs)\n",
    "\n",
    "from sklearn.decomposition import PCA, KernelPCA\n",
    "pca =PCA(n_components=15)\n",
    "pca.fit(lecs)\n",
    "\n",
    "lecs_pca=pd.DataFrame(pca.transform(lecs))\n",
    "\n",
    "lecs_fag=pd.DataFrame(F_agg.transform(lecs))\n",
    "lecs_fag.describe()"
   ]
  },
  {
   "cell_type": "code",
   "execution_count": 11,
   "metadata": {},
   "outputs": [
    {
     "data": {
      "text/plain": [
       "(5.291028118938128, 2.215231150658544)"
      ]
     },
     "execution_count": 11,
     "metadata": {},
     "output_type": "execute_result"
    }
   ],
   "source": [
    "tx= data.x.iloc[0]-data.x_noise[0]\n",
    "ty= data.y.iloc[0]-data.y_noise[0]\n",
    "tx,ty"
   ]
  },
  {
   "cell_type": "code",
   "execution_count": 12,
   "metadata": {},
   "outputs": [
    {
     "name": "stderr",
     "output_type": "stream",
     "text": [
      "No handles with labels found to put in legend.\n"
     ]
    },
    {
     "data": {
      "text/plain": [
       "<matplotlib.collections.PathCollection at 0x7f511676ef98>"
      ]
     },
     "execution_count": 12,
     "metadata": {},
     "output_type": "execute_result"
    },
    {
     "data": {
      "image/png": "[encoded data removed]",
      "text/plain": [
       "<Figure size 720x720 with 1 Axes>"
      ]
     },
     "metadata": {
      "needs_background": "light"
     },
     "output_type": "display_data"
    }
   ],
   "source": [
    "dataorig=data\n",
    "\n",
    "fig = plt.figure(figsize=(10,10))\n",
    "ax1 = fig.add_subplot(111)\n",
    "\n",
    "ax1.set_title( \"Pose and Wheel Odometry \")\n",
    "ax1.set_ylabel('meters')\n",
    "ax1.set_xlabel('meters')\n",
    "ax1.scatter(x=data.x_noise ,y=data.y_noise,alpha=.5 ,c='r' )\n",
    "plt.legend()\n",
    "ax1.scatter(x=data.x,y=data.y, alpha=.5)"
   ]
  },
  {
   "cell_type": "code",
   "execution_count": 13,
   "metadata": {},
   "outputs": [],
   "source": [
    "rot_ang=-1.57/2\n",
    "R= np.ones((2,2))\n",
    "R[0,0]= np.cos(rot_ang)\n",
    "R[0,1]= -np.sin(rot_ang)\n",
    "R[1,0]= np.sin(rot_ang)\n",
    "R[1,1]= np.cos(rot_ang)\n",
    "rotated=[]\n",
    "for xy in data[['x_noise','y_noise']].values:\n",
    "    xy_rotated=np.matmul(R,xy)\n",
    "    rotated.append(xy_rotated)\n",
    "rotated=np.asarray(rotated)\n",
    "data['x_rot']=rotated[:,0]\n",
    "data['y_rot']=rotated[:,1]\n",
    "tx=data.x.iloc[-1]-data.x_rot.iloc[-1]\n",
    "ty=data.y.iloc[-1]-data.y_rot.iloc[-1]\n",
    "tx,ty\n",
    "data.x_rot=data.x_rot+tx\n",
    "data.y_rot=data.y_rot+ty\n"
   ]
  },
  {
   "cell_type": "code",
   "execution_count": 14,
   "metadata": {},
   "outputs": [
    {
     "data": {
      "text/plain": [
       "<matplotlib.legend.Legend at 0x7f511681aa58>"
      ]
     },
     "execution_count": 14,
     "metadata": {},
     "output_type": "execute_result"
    },
    {
     "data": {
      "image/png": "[encoded data removed]",
      "text/plain": [
       "<Figure size 720x720 with 1 Axes>"
      ]
     },
     "metadata": {
      "needs_background": "light"
     },
     "output_type": "display_data"
    }
   ],
   "source": [
    "\n",
    "\n",
    "fig = plt.figure(figsize=(10,10))\n",
    "ax1 = fig.add_subplot(111)\n",
    "ax1.set_title( \"Pose and Wheel Odometry (Corrected)\")\n",
    "ax1.set_ylabel('meters')\n",
    "ax1.set_xlabel('meters')\n",
    "ax1.scatter(x=data.x_rot,y=data.y_rot ,c='r', label='WheelOdometry Corrected', alpha=.5 )\n",
    "\n",
    "ax1.scatter(x=data.x,y=data.y, label='Real Pose',alpha=.4 )\n",
    "plt.legend()"
   ]
  },
  {
   "cell_type": "code",
   "execution_count": 15,
   "metadata": {},
   "outputs": [],
   "source": [
    "delta_odom= np.linalg.norm(data[['x','y']].values-data[['x_rot','y_rot']].values,axis=1)\n",
    "data['delta_odom'] =delta_odom"
   ]
  },
  {
   "cell_type": "code",
   "execution_count": null,
   "metadata": {},
   "outputs": [],
   "source": []
  },
  {
   "cell_type": "code",
   "execution_count": 16,
   "metadata": {},
   "outputs": [
    {
     "data": {
      "text/plain": [
       "[<matplotlib.lines.Line2D at 0x7f51168baa20>]"
      ]
     },
     "execution_count": 16,
     "metadata": {},
     "output_type": "execute_result"
    },
    {
     "data": {
      "image/png": "[encoded data removed]",
      "text/plain": [
       "<Figure size 720x720 with 1 Axes>"
      ]
     },
     "metadata": {
      "needs_background": "light"
     },
     "output_type": "display_data"
    }
   ],
   "source": [
    "\n",
    "\n",
    "fig = plt.figure(figsize=(10,10))\n",
    "ax1 = fig.add_subplot(111)\n",
    "ax1.plot(data.delta_odom)"
   ]
  },
  {
   "cell_type": "code",
   "execution_count": 17,
   "metadata": {},
   "outputs": [
    {
     "data": {
      "text/plain": [
       "count    264.000000\n",
       "mean       0.079678\n",
       "std        0.042792\n",
       "min        0.000000\n",
       "25%        0.042872\n",
       "50%        0.082217\n",
       "75%        0.118981\n",
       "max        0.168426\n",
       "Name: delta_odom, dtype: float64"
      ]
     },
     "execution_count": 17,
     "metadata": {},
     "output_type": "execute_result"
    }
   ],
   "source": [
    "data.delta_odom.describe()"
   ]
  },
  {
   "cell_type": "code",
   "execution_count": 18,
   "metadata": {},
   "outputs": [],
   "source": [
    "x_1,y_1,th_1= 0,0,0\n",
    "delta_mov=[]\n",
    "delta_th=[]\n",
    "for x,y,th in zip (data.x,data.y,data.theta):\n",
    "    \n",
    "    \n",
    "    delta_mov.append(np.array((x,y))-np.array((x_1,y_1)  ))\n",
    "    if (th-th_1)> 6:\n",
    "        delta_th.append(th-th_1-(2*3.1416))\n",
    "    if (th-th_1)<- 6:\n",
    "        delta_th.append(th-th_1+(2*3.1416))\n",
    "    \n",
    "    if ((th-th_1)>- 6 and (th-th_1)< 6  ):\n",
    "        delta_th.append(th-th_1)\n",
    "    x_1,y_1,th_1=x,y,th\n"
   ]
  },
  {
   "cell_type": "code",
   "execution_count": 19,
   "metadata": {},
   "outputs": [],
   "source": [
    "x_1,y_1,th_1= 0,0,0\n",
    "delta_mov_rot=[]\n",
    "delta_th_rot=[]\n",
    "for x,y,th in zip (data.x_rot,data.y_rot,data.theta_noise):\n",
    "    \n",
    "    \n",
    "    delta_mov_rot.append(np.array((x,y))-np.array((x_1,y_1)  ))\n",
    "    if (th-th_1)> 6:\n",
    "        delta_th_rot.append(th-th_1-(2*3.1416))\n",
    "    if (th-th_1)<- 6:\n",
    "        delta_th_rot.append(th-th_1+(2*3.1416))\n",
    "    \n",
    "    if ((th-th_1)>- 6 and (th-th_1)< 6  ):\n",
    "        delta_th_rot.append(th-th_1)\n",
    "    x_1,y_1,th_1=x,y,th\n"
   ]
  },
  {
   "cell_type": "code",
   "execution_count": 20,
   "metadata": {},
   "outputs": [],
   "source": [
    "delta_th[0],delta_th_rot[0]=0,0"
   ]
  },
  {
   "cell_type": "code",
   "execution_count": 21,
   "metadata": {},
   "outputs": [
    {
     "data": {
      "text/html": [
       "<div>\n",
       "<style scoped>\n",
       "    .dataframe tbody tr th:only-of-type {\n",
       "        vertical-align: middle;\n",
       "    }\n",
       "\n",
       "    .dataframe tbody tr th {\n",
       "        vertical-align: top;\n",
       "    }\n",
       "\n",
       "    .dataframe thead th {\n",
       "        text-align: right;\n",
       "    }\n",
       "</style>\n",
       "<table border=\"1\" class=\"dataframe\">\n",
       "  <thead>\n",
       "    <tr style=\"text-align: right;\">\n",
       "      <th></th>\n",
       "      <th>0</th>\n",
       "    </tr>\n",
       "  </thead>\n",
       "  <tbody>\n",
       "    <tr>\n",
       "      <th>count</th>\n",
       "      <td>264.000000</td>\n",
       "    </tr>\n",
       "    <tr>\n",
       "      <th>mean</th>\n",
       "      <td>0.000633</td>\n",
       "    </tr>\n",
       "    <tr>\n",
       "      <th>std</th>\n",
       "      <td>0.017074</td>\n",
       "    </tr>\n",
       "    <tr>\n",
       "      <th>min</th>\n",
       "      <td>-0.045088</td>\n",
       "    </tr>\n",
       "    <tr>\n",
       "      <th>25%</th>\n",
       "      <td>-0.010764</td>\n",
       "    </tr>\n",
       "    <tr>\n",
       "      <th>50%</th>\n",
       "      <td>0.000291</td>\n",
       "    </tr>\n",
       "    <tr>\n",
       "      <th>75%</th>\n",
       "      <td>0.012431</td>\n",
       "    </tr>\n",
       "    <tr>\n",
       "      <th>max</th>\n",
       "      <td>0.054492</td>\n",
       "    </tr>\n",
       "  </tbody>\n",
       "</table>\n",
       "</div>"
      ],
      "text/plain": [
       "                0\n",
       "count  264.000000\n",
       "mean     0.000633\n",
       "std      0.017074\n",
       "min     -0.045088\n",
       "25%     -0.010764\n",
       "50%      0.000291\n",
       "75%      0.012431\n",
       "max      0.054492"
      ]
     },
     "execution_count": 21,
     "metadata": {},
     "output_type": "execute_result"
    }
   ],
   "source": [
    "DELTA_TH=pd.DataFrame(np.array(delta_th)-np.array(delta_th_rot))\n",
    "DELTA_TH.describe()"
   ]
  },
  {
   "cell_type": "markdown",
   "metadata": {},
   "source": [
    "$$ThetaNoise ,   N(\\mu ,\\sigma) $$"
   ]
  },
  {
   "cell_type": "code",
   "execution_count": 39,
   "metadata": {},
   "outputs": [
    {
     "data": {
      "text/plain": [
       "<matplotlib.legend.Legend at 0x7f511650d1d0>"
      ]
     },
     "execution_count": 39,
     "metadata": {},
     "output_type": "execute_result"
    },
    {
     "data": {
      "image/png": "[encoded data removed]",
      "text/plain": [
       "<Figure size 720x720 with 1 Axes>"
      ]
     },
     "metadata": {},
     "output_type": "display_data"
    }
   ],
   "source": [
    "import seaborn as sns\n",
    "sns.set()\n",
    "fig = plt.figure(figsize=(10,10))\n",
    "\n",
    "ax1 = fig.add_subplot(111)\n",
    "\n",
    "sns.distplot(DELTA_TH, label='Theta')\n",
    "\n",
    "ax1.set_xlabel('radians')\n",
    "plt.legend()\n",
    "plt.legend()"
   ]
  },
  {
   "cell_type": "code",
   "execution_count": 23,
   "metadata": {},
   "outputs": [
    {
     "data": {
      "text/html": [
       "<div>\n",
       "<style scoped>\n",
       "    .dataframe tbody tr th:only-of-type {\n",
       "        vertical-align: middle;\n",
       "    }\n",
       "\n",
       "    .dataframe tbody tr th {\n",
       "        vertical-align: top;\n",
       "    }\n",
       "\n",
       "    .dataframe thead th {\n",
       "        text-align: right;\n",
       "    }\n",
       "</style>\n",
       "<table border=\"1\" class=\"dataframe\">\n",
       "  <thead>\n",
       "    <tr style=\"text-align: right;\">\n",
       "      <th></th>\n",
       "      <th>0</th>\n",
       "      <th>1</th>\n",
       "    </tr>\n",
       "  </thead>\n",
       "  <tbody>\n",
       "    <tr>\n",
       "      <th>count</th>\n",
       "      <td>264.000000</td>\n",
       "      <td>264.000000</td>\n",
       "    </tr>\n",
       "    <tr>\n",
       "      <th>mean</th>\n",
       "      <td>0.000000</td>\n",
       "      <td>0.000000</td>\n",
       "    </tr>\n",
       "    <tr>\n",
       "      <th>std</th>\n",
       "      <td>0.014286</td>\n",
       "      <td>0.014150</td>\n",
       "    </tr>\n",
       "    <tr>\n",
       "      <th>min</th>\n",
       "      <td>-0.095343</td>\n",
       "      <td>-0.138729</td>\n",
       "    </tr>\n",
       "    <tr>\n",
       "      <th>25%</th>\n",
       "      <td>-0.004459</td>\n",
       "      <td>-0.002499</td>\n",
       "    </tr>\n",
       "    <tr>\n",
       "      <th>50%</th>\n",
       "      <td>-0.000867</td>\n",
       "      <td>0.000272</td>\n",
       "    </tr>\n",
       "    <tr>\n",
       "      <th>75%</th>\n",
       "      <td>0.003233</td>\n",
       "      <td>0.003791</td>\n",
       "    </tr>\n",
       "    <tr>\n",
       "      <th>max</th>\n",
       "      <td>0.057336</td>\n",
       "      <td>0.041219</td>\n",
       "    </tr>\n",
       "  </tbody>\n",
       "</table>\n",
       "</div>"
      ],
      "text/plain": [
       "                0           1\n",
       "count  264.000000  264.000000\n",
       "mean     0.000000    0.000000\n",
       "std      0.014286    0.014150\n",
       "min     -0.095343   -0.138729\n",
       "25%     -0.004459   -0.002499\n",
       "50%     -0.000867    0.000272\n",
       "75%      0.003233    0.003791\n",
       "max      0.057336    0.041219"
      ]
     },
     "execution_count": 23,
     "metadata": {},
     "output_type": "execute_result"
    }
   ],
   "source": [
    "DELTA_MOV=pd.DataFrame(np.array(delta_mov)-np.array(delta_mov_rot))\n",
    "DELTA_MOV.describe()"
   ]
  },
  {
   "cell_type": "markdown",
   "metadata": {},
   "source": [
    "$$XY Noise ,   N(\\mu ,\\sigma) $$"
   ]
  },
  {
   "cell_type": "code",
   "execution_count": 38,
   "metadata": {},
   "outputs": [
    {
     "data": {
      "text/plain": [
       "<matplotlib.legend.Legend at 0x7f51169919e8>"
      ]
     },
     "execution_count": 38,
     "metadata": {},
     "output_type": "execute_result"
    },
    {
     "data": {
      "image/png": "[encoded data removed]",
      "text/plain": [
       "<Figure size 720x720 with 1 Axes>"
      ]
     },
     "metadata": {},
     "output_type": "display_data"
    }
   ],
   "source": [
    "import matplotlib.pyplot as plt\n",
    "fig = plt.figure(figsize=(10,10))\n",
    "\n",
    "ax1 = fig.add_subplot(111)\n",
    "sns.distplot(DELTA_MOV[0], label='X')\n",
    "\n",
    "ax1.set_xlabel('meters')\n",
    "plt.legend()"
   ]
  },
  {
   "cell_type": "code",
   "execution_count": 25,
   "metadata": {},
   "outputs": [
    {
     "data": {
      "text/plain": [
       "<matplotlib.legend.Legend at 0x7f5116812eb8>"
      ]
     },
     "execution_count": 25,
     "metadata": {},
     "output_type": "execute_result"
    },
    {
     "data": {
      "image/png": "[encoded data removed]",
      "text/plain": [
       "<Figure size 432x288 with 1 Axes>"
      ]
     },
     "metadata": {},
     "output_type": "display_data"
    }
   ],
   "source": [
    "sns.distplot(DELTA_MOV[1], label='Y')\n",
    "plt.legend()"
   ]
  },
  {
   "cell_type": "code",
   "execution_count": 26,
   "metadata": {},
   "outputs": [],
   "source": [
    "xyth_od=data[['x_rot','y_rot','theta_noise']]\n"
   ]
  },
  {
   "cell_type": "code",
   "execution_count": 27,
   "metadata": {},
   "outputs": [],
   "source": [
    "if True:\n",
    "    \n",
    "    K_corpus=128\n",
    "    N=16\n",
    "    \n",
    "    kmedias=MiniBatchKMeans(init='k-means++', n_clusters=K_corpus, batch_size=1000,\n",
    "                      n_init=10, max_no_improvement=10, verbose=0)\n",
    "    kmedias.fit(lecs_pca)  ########CHOOSE LECS OR DIM REDUCED LECS\n",
    "    ccvk=kmedias.cluster_centers_\n",
    "    mbk = MiniBatchKMeans(init='k-means++', n_clusters=N, batch_size=1000,\n",
    "                      n_init=10, max_no_improvement=10, verbose=0)\n",
    "    mbk.fit(xyth)\n",
    "    ccxyth=mbk.cluster_centers_\n",
    "aus=[]\n",
    "aus_odom=[]\n",
    "auvks=[]\n",
    "for i,lec,j in zip(xyth.values, lecs_pca.values,xyth_od.values):########CHOOSE LECS OR DIM REDUCED LECS\n",
    "    _, au= quantized(i , ccxyth)\n",
    "    _, au_od= quantized(i , ccxyth)\n",
    "    aus.append(au)\n",
    "    aus_odom.append(au_od)\n",
    "\n",
    "    auvk= np.power(lec.T-ccvk,2).sum(axis=1,keepdims=True).argmax()\n",
    "    auvks.append(auvk)\n",
    "\n",
    "data['Y']=aus\n",
    "data['Y_odom']=aus_odom\n",
    "data['Vk']=auvks\n"
   ]
  },
  {
   "cell_type": "code",
   "execution_count": null,
   "metadata": {},
   "outputs": [],
   "source": []
  },
  {
   "cell_type": "code",
   "execution_count": 28,
   "metadata": {},
   "outputs": [
    {
     "data": {
      "text/plain": [
       "<matplotlib.legend.Legend at 0x7f51371e1630>"
      ]
     },
     "execution_count": 28,
     "metadata": {},
     "output_type": "execute_result"
    },
    {
     "data": {
      "image/png": "[encoded data removed]",
      "text/plain": [
       "<Figure size 720x720 with 1 Axes>"
      ]
     },
     "metadata": {},
     "output_type": "display_data"
    }
   ],
   "source": [
    "\n",
    "\n",
    "fig = plt.figure(figsize=(10,10))\n",
    "fig.suptitle('Quantized Read (HMM Observation)', fontsize=16)\n",
    "\n",
    "ax1 = fig.add_subplot(111)\n",
    "\n",
    "ax1.scatter(x=data.x_rot,y=data.y_rot,marker='+' ,c=data.Vk, label='Odom' )\n",
    "ax1.scatter(x=data.x,y=data.y ,marker='*', c=data.Vk,label='Real')\n",
    "ax1.legend()"
   ]
  },
  {
   "cell_type": "code",
   "execution_count": 29,
   "metadata": {},
   "outputs": [
    {
     "data": {
      "text/plain": [
       "36     43\n",
       "17     22\n",
       "92     12\n",
       "32     12\n",
       "108    10\n",
       "9      10\n",
       "77     10\n",
       "94     10\n",
       "114     8\n",
       "40      7\n",
       "50      7\n",
       "89      7\n",
       "109     6\n",
       "34      6\n",
       "124     6\n",
       "4       6\n",
       "24      5\n",
       "1       5\n",
       "85      5\n",
       "102     5\n",
       "111     5\n",
       "84      4\n",
       "13      4\n",
       "119     4\n",
       "65      4\n",
       "15      3\n",
       "31      3\n",
       "45      3\n",
       "126     3\n",
       "73      3\n",
       "76      3\n",
       "82      3\n",
       "103     2\n",
       "5       2\n",
       "79      2\n",
       "47      2\n",
       "41      2\n",
       "125     1\n",
       "62      1\n",
       "51      1\n",
       "86      1\n",
       "90      1\n",
       "97      1\n",
       "101     1\n",
       "55      1\n",
       "2       1\n",
       "22      1\n",
       "Name: Vk, dtype: int64"
      ]
     },
     "execution_count": 29,
     "metadata": {},
     "output_type": "execute_result"
    }
   ],
   "source": [
    "data.Vk.value_counts()"
   ]
  },
  {
   "cell_type": "code",
   "execution_count": null,
   "metadata": {},
   "outputs": [],
   "source": []
  },
  {
   "cell_type": "code",
   "execution_count": 30,
   "metadata": {},
   "outputs": [
    {
     "data": {
      "text/plain": [
       "<AxesSubplot:>"
      ]
     },
     "execution_count": 30,
     "metadata": {},
     "output_type": "execute_result"
    },
    {
     "data": {
      "image/png": "[encoded data removed]",
      "text/plain": [
       "<Figure size 432x288 with 1 Axes>"
      ]
     },
     "metadata": {},
     "output_type": "display_data"
    }
   ],
   "source": [
    "data.Vk.hist()"
   ]
  },
  {
   "cell_type": "code",
   "execution_count": 31,
   "metadata": {},
   "outputs": [
    {
     "data": {
      "text/plain": [
       "<matplotlib.legend.Legend at 0x7f51370924e0>"
      ]
     },
     "execution_count": 31,
     "metadata": {},
     "output_type": "execute_result"
    },
    {
     "data": {
      "image/png": "[encoded data removed]",
      "text/plain": [
       "<Figure size 720x720 with 1 Axes>"
      ]
     },
     "metadata": {},
     "output_type": "display_data"
    }
   ],
   "source": [
    "\n",
    "\n",
    "fig = plt.figure(figsize=(10,10))\n",
    "ax1 = fig.add_subplot(111)\n",
    "fig.suptitle('Quantized POSE (HMM State)', fontsize=16)\n",
    "\n",
    "ax1.scatter(x=data.x_rot,y=data.y_rot,marker='*' ,c=data.Y_odom  ,label='ODOM')\n",
    "ax1.scatter(x=data.x,y=data.y , c=data.Y,label='REAL')\n",
    "ax1.legend()"
   ]
  },
  {
   "cell_type": "code",
   "execution_count": 32,
   "metadata": {},
   "outputs": [],
   "source": [
    "save=False\n",
    "est,obs= data.Y.values,data.Vk.values"
   ]
  },
  {
   "cell_type": "code",
   "execution_count": 33,
   "metadata": {},
   "outputs": [
    {
     "name": "stdout",
     "output_type": "stream",
     "text": [
      "MODEL NOT SAVED\n"
     ]
    },
    {
     "data": {
      "text/plain": [
       "(16, 127)"
      ]
     },
     "execution_count": 33,
     "metadata": {},
     "output_type": "execute_result"
    }
   ],
   "source": [
    "####BAUM WELCH APPROX###############???!?!?!\n",
    "\n",
    "\n",
    "N=est.max()+1 \n",
    "K_corpus= obs.max()+1\n",
    "TRANS=np.zeros((N,N))\n",
    "for i in range (N):\n",
    "    fromTO=[]\n",
    "\n",
    "\n",
    "    indices=np.asarray(np.where(est==i)).ravel()\n",
    "   \n",
    "\n",
    "    for indice in indices:\n",
    "\n",
    "        if (int(indice)==len(est)-1):\n",
    "            \n",
    "            indice=indice-1\n",
    "\n",
    "        fromTO.append(est[indice+1])\n",
    "    fromTO.append(0)\n",
    "    fromTO.append(N-1)\n",
    "    aux=np.asarray(np.bincount(fromTO    ))\n",
    "    aux[0]=aux[0]-1\n",
    "    aux[N-1]=aux[N-1]-1\n",
    "    \n",
    "    TRANS[i,:]=aux\n",
    "TRANS=TRANS/TRANS.sum(axis=1)\n",
    "#####################################3\n",
    "EMIS= np.zeros((N,K_corpus))\n",
    "for Vk in range (K_corpus):\n",
    "\n",
    "    indices=np.asarray(np.where(obs==Vk)).ravel()\n",
    "    estconvk= est[indices]\n",
    "\n",
    "    numestenvk=np.bincount(estconvk)\n",
    "    if (N-len(numestenvk)>0):\n",
    "        numestenvk=np.append(numestenvk, np.zeros(N-len(numestenvk)))\n",
    "    EMIS[:,Vk]=(numestenvk/np.bincount(est))\n",
    "\n",
    "A,B=TRANS,EMIS\n",
    "PI=np.ones(N)/N\n",
    "Modelo1=HMM(A,B,PI)\n",
    "\n",
    "\n",
    "if save:\n",
    "\n",
    "    #np.linalg.norm(Modelo1.A-Modelo2.A)\n",
    "    np.save('A.npy',Modelo1.A)\n",
    "    np.save('B.npy',Modelo1.B)\n",
    "    np.save('PI.npy',Modelo1.PI)\n",
    "    print(\"MODEL SAVED\")\n",
    "else:\n",
    "    print(\"MODEL NOT SAVED\")\n",
    "B.shape"
   ]
  },
  {
   "cell_type": "code",
   "execution_count": 34,
   "metadata": {},
   "outputs": [],
   "source": [
    "save=False\n",
    "est,obs= data.Y.values,data.Vk.values"
   ]
  },
  {
   "cell_type": "code",
   "execution_count": 35,
   "metadata": {},
   "outputs": [
    {
     "name": "stdout",
     "output_type": "stream",
     "text": [
      "MODEL NOT SAVED\n"
     ]
    },
    {
     "data": {
      "text/plain": [
       "(16, 127)"
      ]
     },
     "execution_count": 35,
     "metadata": {},
     "output_type": "execute_result"
    }
   ],
   "source": [
    "####BAUM WELCH APPROX###############???!?!?!\n",
    "\n",
    "\n",
    "N=est.max()+1 \n",
    "K_corpus= obs.max()+1\n",
    "TRANS=np.zeros((N,N))\n",
    "for i in range (N):\n",
    "    fromTO=[]\n",
    "\n",
    "\n",
    "    indices=np.asarray(np.where(est==i)).ravel()\n",
    "   \n",
    "\n",
    "    for indice in indices:\n",
    "\n",
    "        if (int(indice)==len(est)-1):\n",
    "            \n",
    "            indice=indice-1\n",
    "\n",
    "        fromTO.append(est[indice+1])\n",
    "    fromTO.append(0)\n",
    "    fromTO.append(N-1)\n",
    "    aux=np.asarray(np.bincount(fromTO    ))\n",
    "    aux[0]=aux[0]-1\n",
    "    aux[N-1]=aux[N-1]-1\n",
    "    \n",
    "    TRANS[i,:]=aux\n",
    "TRANS=TRANS/TRANS.sum(axis=1)\n",
    "#####################################3\n",
    "EMIS= np.zeros((N,K_corpus))\n",
    "for Vk in range (K_corpus):\n",
    "\n",
    "    indices=np.asarray(np.where(obs==Vk)).ravel()\n",
    "    estconvk= est[indices]\n",
    "\n",
    "    numestenvk=np.bincount(estconvk)\n",
    "    if (N-len(numestenvk)>0):\n",
    "        numestenvk=np.append(numestenvk, np.zeros(N-len(numestenvk)))\n",
    "    EMIS[:,Vk]=(numestenvk/np.bincount(est))\n",
    "\n",
    "A,B=TRANS,EMIS\n",
    "PI=np.ones(N)/N\n",
    "Modelo1=HMM(A,B,PI)\n",
    "\n",
    "\n",
    "if save:\n",
    "\n",
    "    #np.linalg.norm(Modelo1.A-Modelo2.A)\n",
    "    np.save('A.npy',Modelo1.A)\n",
    "    np.save('B.npy',Modelo1.B)\n",
    "    np.save('PI.npy',Modelo1.PI)\n",
    "    print(\"MODEL SAVED\")\n",
    "else:\n",
    "    print(\"MODEL NOT SAVED\")\n",
    "B.shape"
   ]
  },
  {
   "cell_type": "code",
   "execution_count": 36,
   "metadata": {},
   "outputs": [],
   "source": [
    "def accuracy(yhat,ytrue):\n",
    "    weights=[.5,.2,.1,.05,.05]\n",
    "    if len (yhat)>=5:\n",
    "        yhat=yhat[-5:]\n",
    "        ytrue=ytrue[-5:]\n",
    "        accuracy=np.dot((yhat==ytrue),weights)\n",
    "        return accuracy\n",
    "\n"
   ]
  },
  {
   "cell_type": "code",
   "execution_count": 37,
   "metadata": {},
   "outputs": [
    {
     "name": "stdout",
     "output_type": "stream",
     "text": [
      "162\n",
      "0.4\n"
     ]
    }
   ],
   "source": [
    "\n",
    "\n",
    "buf_vit=10\n",
    "indice= int(np.random.rand()*(len(obs)-2*buf_vit))\n",
    "for i in range(1):\n",
    "    \n",
    "   \n",
    "    obs_windowed= obs[indice:indice+buf_vit]\n",
    "    #obs2_windowed= obs2[indice:indice+buf_vit]\n",
    "    est_windowed= est[indice:indice+buf_vit]\n",
    "    odomreal= data[['x','y']].iloc[indice:indice+buf_vit]\n",
    "    \n",
    "\n",
    "    print(indice)\n",
    "    #PATH from Model 1 KMEANS CC's obs\n",
    "    path= viterbi(obs_windowed,Modelo1,Modelo1.PI)\n",
    "    \n",
    "    ##PATH FROM MODEL 2 WICH NEEDS AFF PORP QUANT OBS\n",
    "   # path2= viterbi(obs2_windowed,Modelo2,Modelo2.PI)\n",
    "    yhat=np.zeros(len(path)-1)\n",
    "  #  yhat2=np.zeros(len(path2)-1)\n",
    "    ytrue=np.zeros(len(path)-1)\n",
    "    for i in range(len(path)-1):\n",
    "        yhat[i]=int(path[i])\n",
    "      #  yhat2[i]=int(path2[i])\n",
    "        ytrue[i]=int(est_windowed[i])\n",
    "    print(accuracy(ytrue,yhat))\n",
    "    #print(accuracy(ytrue,yhat), accuracy(ytrue,yhat2))\n",
    "    "
   ]
  },
  {
   "cell_type": "code",
   "execution_count": null,
   "metadata": {},
   "outputs": [],
   "source": []
  },
  {
   "cell_type": "code",
   "execution_count": null,
   "metadata": {},
   "outputs": [],
   "source": []
  },
  {
   "cell_type": "code",
   "execution_count": null,
   "metadata": {},
   "outputs": [],
   "source": []
  },
  {
   "cell_type": "code",
   "execution_count": null,
   "metadata": {},
   "outputs": [],
   "source": []
  },
  {
   "cell_type": "code",
   "execution_count": null,
   "metadata": {},
   "outputs": [],
   "source": []
  },
  {
   "cell_type": "code",
   "execution_count": null,
   "metadata": {},
   "outputs": [],
   "source": []
  },
  {
   "cell_type": "code",
   "execution_count": null,
   "metadata": {},
   "outputs": [],
   "source": []
  },
  {
   "cell_type": "code",
   "execution_count": null,
   "metadata": {},
   "outputs": [],
   "source": []
  },
  {
   "cell_type": "code",
   "execution_count": null,
   "metadata": {},
   "outputs": [],
   "source": []
  },
  {
   "cell_type": "code",
   "execution_count": null,
   "metadata": {},
   "outputs": [],
   "source": []
  },
  {
   "cell_type": "code",
   "execution_count": null,
   "metadata": {},
   "outputs": [],
   "source": []
  },
  {
   "cell_type": "code",
   "execution_count": null,
   "metadata": {},
   "outputs": [],
   "source": []
  },
  {
   "cell_type": "code",
   "execution_count": null,
   "metadata": {},
   "outputs": [],
   "source": []
  },
  {
   "cell_type": "code",
   "execution_count": null,
   "metadata": {},
   "outputs": [],
   "source": []
  },
  {
   "cell_type": "code",
   "execution_count": null,
   "metadata": {},
   "outputs": [],
   "source": []
  },
  {
   "cell_type": "code",
   "execution_count": null,
   "metadata": {},
   "outputs": [],
   "source": []
  }
 ],
 "metadata": {
  "kernelspec": {
   "display_name": "Python 3",
   "language": "python",
   "name": "python3"
  },
  "language_info": {
   "codemirror_mode": {
    "name": "ipython",
    "version": 3
   },
   "file_extension": ".py",
   "mimetype": "text/x-python",
   "name": "python",
   "nbconvert_exporter": "python",
   "pygments_lexer": "ipython3",
   "version": "3.6.9"
  }
 },
 "nbformat": 4,
 "nbformat_minor": 2
}
